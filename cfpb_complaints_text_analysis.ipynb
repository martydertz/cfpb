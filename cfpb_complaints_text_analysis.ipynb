{
 "cells": [
  {
   "cell_type": "markdown",
   "metadata": {},
   "source": [
    "# Clustering, Topic Modeling Consumer Mortgage Complaints\n",
    "\n",
    "## Background\n",
    "\n",
    "The Consumer Financial Protection Bureau (CFPB) was created as part of the Dodd-Frank Financial Protection Act, and it's mission is to empower and educate consumers about financial products. CFPB also is responsible for enforcing financial regulations. Therefore consumer complaints hold useful information both for CFPB and the customers they serve. In the following sections we connect to the complaints data and do an exploratory analysis of the narratives provided by customers. \n",
    "\n",
    "Along the way we'll highlight areas that may be useful to CFPB, both in educating & empowering consumers within its Division of Consumer Education and Engagement and Division of Research Markets and Regulation. \n",
    "\n",
    "\n",
    "## Getting the Data\n",
    "\n",
    "After importing each package, we'll query the consumer compaints database provided by CFPB by\n",
    "\n",
    "1. Connecting to the database file\n",
    "2. Creating a cursor for the connection\n",
    "3. Creating and execute a SQL query, saving the results to the 'complaints' variable\n",
    "4. Closing the connection."
   ]
  },
  {
   "cell_type": "code",
   "execution_count": 1,
   "metadata": {
    "collapsed": false
   },
   "outputs": [],
   "source": [
    "import sqlite3\n",
    "import os \n",
    "import nltk\n",
    "import numpy as np\n",
    "import scipy\n",
    "\n",
    "os.chdir(\"C:\\kaggle\\cfpb\")\n",
    "con = sqlite3.connect(\"database.sqlite\")\n",
    "cur = con.cursor()\n",
    "sqlString = \"\"\" \n",
    "            SELECT complaint_id, date_received, consumer_complaint_narrative, company\n",
    "            FROM consumer_complaints\n",
    "            WHERE product = \"Mortgage\" AND \n",
    "                            consumer_complaint_narrative != \"\"\n",
    "            \"\"\"\n",
    "cur.execute(sqlString)\n",
    "complaints = cur.fetchall()\n",
    "con.close()"
   ]
  },
  {
   "cell_type": "markdown",
   "metadata": {},
   "source": [
    "### Peeking at the Data\n",
    "\n",
    "The rows selected -- complaint_id, consumer_complaint_narrative, company -- are stored as a list of tuples. There is one tuple for each row. As an example, let's randomly (well, sort of...) select a complaint and print its date, narrative, and company"
   ]
  },
  {
   "cell_type": "code",
   "execution_count": 2,
   "metadata": {
    "collapsed": false
   },
   "outputs": [
    {
     "name": "stdout",
     "output_type": "stream",
     "text": [
      "2\n",
      "14919\n",
      "(1292137, '03/19/2015', 'XXXX was submitted XX/XX/XXXX. At the time I submitted this complaint, I had dealt with Rushmore Mortgage directly endeavoring to get them to stop the continuous daily calls I was receiving trying to collect on a mortgage for which I was not responsible due to bankruptcy. They denied having knowledge of the bankruptcy, even though I had spoken with them about it repeatedly and had written them repeatedly referencing the bankruptcy requesting them to cease the pursuit, they continued to do so. When they were unable to trick me into paying, force me into paying in retaliation they placed reported to my credit bureaus a past due mortgage amount that had been discharged in Federal Court. On XX/XX/XXXX Rushmore responded the referenced complaint indicating that they would remove the reporting from my bureau, yet it is still there now in XX/XX/XXXX. I would like them to remove it immediately and send me a letter indicating that it should not have been there in the first place and they are going to remove it from all my bureaus. Rushmore, when speaking to me, represented themselves as the new note holder, but when CFPB was involved, they identified themselves as the servicing agency for XXXX XXXX XXXX. This credit bullying and racial discrimination practices is damaging to anyone who is exposed to these tactics and this needs to stop. Them denying their intent and then walking away with no penalties of any kind is one of the reasons it continues. Please assist me in procuring the resolution once and for all. \\n', 'Rushmore Loan Management Services LLC')\n"
     ]
    }
   ],
   "source": [
    "import random\n",
    "random.seed(7040)\n",
    "rand_complaint = random.randint(0, len(complaints))\n",
    "print(rand_complaint)\n",
    "print(len(complaints))\n",
    "print(complaints[rand_complaint])"
   ]
  },
  {
   "cell_type": "markdown",
   "metadata": {},
   "source": [
    "## Some Questions\n",
    "\n",
    "Our random complaint is voyeristically interesting (if a little disheartening), but reading it with CFPB in mind questions come to mind: \"Are there other, similar narratives?\". Another que"
   ]
  },
  {
   "cell_type": "code",
   "execution_count": 3,
   "metadata": {
    "collapsed": false
   },
   "outputs": [
    {
     "name": "stdout",
     "output_type": "stream",
     "text": [
      "260.34  Average words per complaint\n"
     ]
    }
   ],
   "source": [
    "total_words=0\n",
    "for i in range(len(complaints)):\n",
    "    txt_lst = complaints[i][2].split()\n",
    "    total_words += len(txt_lst)\n",
    "average = round(total_words/len(complaints),2)\n",
    "print(average, \" Average words per complaint\")\n",
    "for i in range(len(complaints)):\n",
    "    txt_lst = complaints[i][1].split()\n",
    "    "
   ]
  },
  {
   "cell_type": "markdown",
   "metadata": {},
   "source": [
    "So we've answered our first question about the distribution of words in complaints, but what about the other questions - can we extract deeper meaning from the text of consumer's narratives to learn about complaint topics? Maybe, but first we need to represent each narrative's text as vectors in a matrix, a so-called 'bag-of-words'."
   ]
  },
  {
   "cell_type": "markdown",
   "metadata": {},
   "source": [
    "## Document-Term Matrix\n",
    "\n",
    "The first step in answering the second question is taking our raw text and process it. For each narrative we want two pieces of information\n",
    "\n",
    "1. What words appear, and\n",
    "2. How many times each of the words appears\n",
    "\n",
    "An efficient way to do this is with a Document Term Matrix (DTM) and Vocabulary. The DTM will have a row for each mortgage complaint, and a column for each word in the vocabulary. This gives us an MxN matrix, where M is the number of complaints, N is the number of words in the vocabulary, and the ijth entry corresponds to the count of the jth vocabulary word in the ith narrative. That may seem a bit abstract if your unfamiliar with text analysis and/or linear algebra so we'll go through an example or two to make it more concrete. \n",
    "\n",
    "First, we extract each complaint so we have a list of complaints."
   ]
  },
  {
   "cell_type": "code",
   "execution_count": 4,
   "metadata": {
    "collapsed": true
   },
   "outputs": [],
   "source": [
    "complaint_list = []\n",
    "for i in range(len(complaints)):\n",
    "    complaint_list.append(complaints[i][2])"
   ]
  },
  {
   "cell_type": "markdown",
   "metadata": {},
   "source": [
    "### Stop Words\n",
    "\n",
    "In extracting a vocabulary for our text, we want balance: Including all words used is more than we need, but too few and we won't extract any meaningful information. Once we have a vocabulary we'll count up how many times each narrative uses each word in the vocabulary. Those counts will make up the DTM.\n",
    "\n",
    "The big idea behind creating a DTM is that each document -- in our case mortgage complaint narratives -- can be represented as a vector. Using vectors we can compute things like distance and similarity between narratives. But some words -- like 'the', 'a', 'it' -- occur so frequently in English text they'll be in nearly 100% of the narratives and therefore don't add much value to our DTM. Think of it like this -- if I tell you two narratives use the word 'the' and 'it' five times you likely haven't learned anything about their content, but if I tell you two narratives contain the words 'refinance' and 'foreclosure' 5 times you can begin to make some inferences about what other words they include. \n",
    "\n",
    "In text analysis, these frequently occuring terms are known as 'stop words'. There's a dictionary of them in the nltk package we'll use, but we'll also include some words from the text reading the example narrative above that we want the DTM counter to ignore. "
   ]
  },
  {
   "cell_type": "code",
   "execution_count": 5,
   "metadata": {
    "collapsed": false
   },
   "outputs": [],
   "source": [
    "stopwords = nltk.corpus.stopwords.words('english')\n",
    "stopwords.extend(['wells', 'fargo, bank', 'america','chase', 'x','xx','xxx','xxxx','xxxxx',\n",
    "                'mortgage', 'x/xx/xxxx', 'mortgage', '00'])"
   ]
  },
  {
   "cell_type": "markdown",
   "metadata": {},
   "source": [
    "### Words to Vectors\n",
    "Now that we've got our stop words, we can create a CountVectorizer object with our stop word list and feed it our complaint list. Then we'll coerce the matrix and vocabulary to numpy arrays because they have more methods that we'll use in later computations. "
   ]
  },
  {
   "cell_type": "code",
   "execution_count": 6,
   "metadata": {
    "collapsed": true
   },
   "outputs": [],
   "source": [
    "from sklearn.feature_extraction.text import CountVectorizer\n",
    "vectorizer = CountVectorizer(stop_words = stopwords)\n",
    "dtm = vectorizer.fit_transform(complaint_list)\n",
    "vocab = vectorizer.get_feature_names()\n",
    "dtm = dtm.toarray()\n",
    "vocab = np.array(vocab)"
   ]
  },
  {
   "cell_type": "markdown",
   "metadata": {},
   "source": [
    "## Using the DTM \n",
    "\n",
    "Now that we've processed and vectorized our text some doors have opened. For example, for any two narratives we could compute the\n",
    "\n",
    "- **Cosine Similarity**: A measure of how similar two narratives are. It's the measure of the cosine of the angle between two vectors. A value of 1 corresponds to an angle of 0 degrees, or equivalent vectors and 90 degrees, or orthogonal vectors. \n",
    "- **Euclidean Distance**: \n",
    "\n",
    "We could use the DTM, for example, to find the narratives which are most similar to each other. As an example, we'll loop through the DTM, measure the similarity of each narrative to the Rushmore complaint we started with (the randomly selected one from the beginning), and return the complaint that's most similar. "
   ]
  },
  {
   "cell_type": "code",
   "execution_count": 7,
   "metadata": {
    "collapsed": false
   },
   "outputs": [
    {
     "name": "stdout",
     "output_type": "stream",
     "text": [
      "0.321863154789 11740\n"
     ]
    }
   ],
   "source": [
    "from sklearn.metrics.pairwise import cosine_similarity\n",
    " \n",
    "sim = 0\n",
    "for i in range(len(dtm)):\n",
    "    if i == 2:\n",
    "        pass\n",
    "    else:\n",
    "        s = cosine_similarity(dtm[2].reshape(1,-1),dtm[i].reshape(1,-1))[0][0]\n",
    "        if s > sim:\n",
    "            sim = s\n",
    "            closest = i\n",
    "print(sim, closest)"
   ]
  },
  {
   "cell_type": "markdown",
   "metadata": {},
   "source": [
    "So we have the complaint we started with and another which is the most similar according to the similarity measurement we defined. But what about a human reader? Would a person reading the texts notice any similarities? Let's print them out side-by-side and see"
   ]
  },
  {
   "cell_type": "code",
   "execution_count": 8,
   "metadata": {
    "collapsed": false
   },
   "outputs": [
    {
     "name": "stdout",
     "output_type": "stream",
     "text": [
      "COMPLAINT 2:  (1292137, '03/19/2015', 'XXXX was submitted XX/XX/XXXX. At the time I submitted this complaint, I had dealt with Rushmore Mortgage directly endeavoring to get them to stop the continuous daily calls I was receiving trying to collect on a mortgage for which I was not responsible due to bankruptcy. They denied having knowledge of the bankruptcy, even though I had spoken with them about it repeatedly and had written them repeatedly referencing the bankruptcy requesting them to cease the pursuit, they continued to do so. When they were unable to trick me into paying, force me into paying in retaliation they placed reported to my credit bureaus a past due mortgage amount that had been discharged in Federal Court. On XX/XX/XXXX Rushmore responded the referenced complaint indicating that they would remove the reporting from my bureau, yet it is still there now in XX/XX/XXXX. I would like them to remove it immediately and send me a letter indicating that it should not have been there in the first place and they are going to remove it from all my bureaus. Rushmore, when speaking to me, represented themselves as the new note holder, but when CFPB was involved, they identified themselves as the servicing agency for XXXX XXXX XXXX. This credit bullying and racial discrimination practices is damaging to anyone who is exposed to these tactics and this needs to stop. Them denying their intent and then walking away with no penalties of any kind is one of the reasons it continues. Please assist me in procuring the resolution once and for all. \\n', 'Rushmore Loan Management Services LLC')\n",
      "COMPLAINT  11740 :  (1697774, '12/15/2015', 'I filled bankruptcy, including my mortgage with Rushmore Loan Management in XXXX and it was discharged XXXX XXXX, XXXX Creditors are supposed to cease reporting negative items after the notice of bankruptcy being filed and creditors discharging items. I am protected through the bankruptcy against any further consequences for this loan. After several credit disputes, Rushmore continues to report derogatory information on my credit reports. They will not remove the comments \" settled for less than the amount owed \\'\\'. This comment along is not allowing me to get a mortgage to purchase a new home. ( FYIXXXX was the lender at the time of the Bankruptcy ) \\n', 'Rushmore Loan Management Services LLC')\n"
     ]
    }
   ],
   "source": [
    "print(\"COMPLAINT 2: \",complaints[2])\n",
    "print(\"COMPLAINT \", closest,\": \", complaints[closest])"
   ]
  },
  {
   "cell_type": "markdown",
   "metadata": {},
   "source": [
    "The narratives are definitely unique, but it is reasuring -- at least in validating our similarity measurement -- that both coplaints stem from the same issue. That is lenders failing to cease reporting to credit bureaus after a customer's bankruptcy. So how could CFPB use this information? \n",
    "\n",
    "1. When complaints are filed the most similar complaint -- or even the 10 most similar complaints -- could be used for outreach and connecting consumers. When filing a complaint you're probably interested in how similar complaints were resolved. \n",
    "\n",
    "2. Clustering topics to learn more about categories of consumer complaints. Knowing about clusters would allow CFPB to identify systemic issues. \n",
    "\n",
    "3. Using the vector representations CFPB could identify words distinctive to particular categories. "
   ]
  },
  {
   "cell_type": "markdown",
   "metadata": {},
   "source": [
    "## Applying the Similarity Measure\n",
    "\n",
    "### Finding Nearest-Neighbors\n",
    "\n",
    "Now that we've defined a measure of 'similarity', we can use it to sort the narratives into buckets based on their proximity to each other. Again, the DTM is an array of arrays, and the arrays tally up the number of times each vocab word occurs. To use the Rushmore complaint, "
   ]
  },
  {
   "cell_type": "code",
   "execution_count": 9,
   "metadata": {
    "collapsed": false
   },
   "outputs": [
    {
     "name": "stdout",
     "output_type": "stream",
     "text": [
      "agency 1\n",
      "amount 1\n",
      "anyone 1\n",
      "assist 1\n",
      "away 1\n",
      "bankruptcy 3\n",
      "bullying 1\n",
      "bureau 1\n",
      "bureaus 2\n",
      "calls 1\n",
      "cease 1\n",
      "cfpb 1\n",
      "collect 1\n",
      "complaint 2\n",
      "continued 1\n",
      "continues 1\n",
      "continuous 1\n",
      "court 1\n",
      "credit 2\n",
      "daily 1\n",
      "damaging 1\n",
      "dealt 1\n",
      "denied 1\n",
      "denying 1\n",
      "directly 1\n",
      "discharged 1\n",
      "discrimination 1\n",
      "due 2\n",
      "endeavoring 1\n",
      "even 1\n",
      "exposed 1\n",
      "federal 1\n",
      "first 1\n",
      "force 1\n",
      "get 1\n",
      "going 1\n",
      "holder 1\n",
      "identified 1\n",
      "immediately 1\n",
      "indicating 2\n",
      "intent 1\n",
      "involved 1\n",
      "kind 1\n",
      "knowledge 1\n",
      "letter 1\n",
      "like 1\n",
      "needs 1\n",
      "new 1\n",
      "note 1\n",
      "one 1\n",
      "past 1\n",
      "paying 2\n",
      "penalties 1\n",
      "place 1\n",
      "placed 1\n",
      "please 1\n",
      "practices 1\n",
      "procuring 1\n",
      "pursuit 1\n",
      "racial 1\n",
      "reasons 1\n",
      "receiving 1\n",
      "referenced 1\n",
      "referencing 1\n",
      "remove 3\n",
      "repeatedly 2\n",
      "reported 1\n",
      "reporting 1\n",
      "represented 1\n",
      "requesting 1\n",
      "resolution 1\n",
      "responded 1\n",
      "responsible 1\n",
      "retaliation 1\n",
      "rushmore 3\n",
      "send 1\n",
      "servicing 1\n",
      "speaking 1\n",
      "spoken 1\n",
      "still 1\n",
      "stop 2\n",
      "submitted 2\n",
      "tactics 1\n",
      "though 1\n",
      "time 1\n",
      "trick 1\n",
      "trying 1\n",
      "unable 1\n",
      "walking 1\n",
      "would 2\n",
      "written 1\n",
      "yet 1\n"
     ]
    }
   ],
   "source": [
    "for i in range(len(vocab)):\n",
    "    if dtm[2][i] != 0:\n",
    "        print(vocab[i], dtm[2][i])"
   ]
  },
  {
   "cell_type": "markdown",
   "metadata": {},
   "source": [
    "With that in mind, let's take a look at the 5 nearest neighbors to the Rushmore complaint and see what, if anything, they have in common. "
   ]
  },
  {
   "cell_type": "code",
   "execution_count": 10,
   "metadata": {
    "collapsed": false
   },
   "outputs": [],
   "source": [
    "# Given item's value and list of items, return an ordered list of 5 items from list closest to given item\n",
    "def addItem(itemValue, itemIndex, lst):\n",
    "    newList = lst + [(itemValue, itemIndex)]\n",
    "    newList = sorted(newList)\n",
    "    while len(newList) > 5:\n",
    "        newList.pop(0)\n",
    "    return newList"
   ]
  },
  {
   "cell_type": "code",
   "execution_count": 11,
   "metadata": {
    "collapsed": false
   },
   "outputs": [],
   "source": [
    "nearestNeighbors=[]\n",
    "for i in range(len(dtm)):\n",
    "    if i == 2:\n",
    "        continue\n",
    "    value = cosine_similarity(dtm[2].reshape(1,-1),dtm[i].reshape(1,-1))[0][0]\n",
    "    nearestNeighbors = addItem(value, i, nearestNeighbors)"
   ]
  },
  {
   "cell_type": "code",
   "execution_count": 12,
   "metadata": {
    "collapsed": false
   },
   "outputs": [
    {
     "data": {
      "text/plain": [
       "[(0.26159188238936149, 2234),\n",
       " (0.26276513239651561, 12074),\n",
       " (0.26901283624863742, 8960),\n",
       " (0.2837634597609297, 4600),\n",
       " (0.32186315478935912, 11740)]"
      ]
     },
     "execution_count": 12,
     "metadata": {},
     "output_type": "execute_result"
    }
   ],
   "source": [
    "nearestNeighbors"
   ]
  },
  {
   "cell_type": "code",
   "execution_count": 13,
   "metadata": {
    "collapsed": false
   },
   "outputs": [
    {
     "name": "stdout",
     "output_type": "stream",
     "text": [
      "(1398458, '05/29/2015', \"My mortgage is being serviced through Seterus Inc . They have reported to the credit reporting agencies as a Chapter XXXX bankruptcy. I am not in bankruptcy and have never been late. My husband and I work in the XXXX and can loose our jobs for poor credit and bankruptcy. I called seterus and they told me that it was a debtor mismatch and it would be corrected. I received a letter from them on XXXX XXXX stating it has been corrected. As of my new credit report is it still showing chapter XXXX and now they have the loan as closed/no balance. I have called XXXX XXXX ( the Seterus rep that sent me a letter ) and she will not return my calls. My credit score has dropped over XXXX points in their reporting error and I can not get any help in correcting. My livelihood is at risk, we ca n't move to a new house and I ca n't re-fi my mortgage to get away from them due to their error. \\n\", 'Seterus, Inc.')\n",
      "(1736556, '01/12/2016', \"I had filed and was awarded bankruptcy in XX/XX/XXXX. Included in the bankruptcy was a home that had been awarded to my ex-spouse during the divorce under XXXX XXXX. My credit report shows the loan was discharged due to bankruptcy in XX/XX/XXXX and XXXX discontinued reporting on my credit report. \\nMy ex-spouse had stopped making payments on the house and subsequently, the loan company started foreclosure proceedings. I was no longer responsible for the loan, with the discharged bankruptcy on court record however, in XX/XX/XXXX, XXXX XXXX sold the loan to another company, Caliber Home Loans. Caliber proceeded to put me back on the mortgage, even with the discharged bankruptcy and began reporting on my credit report XX/XX/XXXX that the loan was over 180 days past due. I contacted Caliber, gave them my bankruptcy information, my attorney 's information and asked them to remove the information from my credit report. I was not a part of that loan when they acquired it in XX/XX/XXXX as the discharge was in XX/XX/XXXX. They have failed to do so even at the request of my attorney, proof of the bankruptcy discharge and request of myself. The are still reporting on my credit report. \\n\", 'Caliber Home Loans, Inc')\n",
      "(1586997, '09/30/2015', 'We filed bankruptcy in 2010 however, there was a car loan XXXX and home XXXX - Chase Mortgage XXXX XXXX XXXX XXXX XXXX XXXX TX XXXX ) that were not to be included in the bankruptcy ( see uploaded doc schedule C ). However, XXXX companies, Chase and XXXX XXXX I will submit complaint XXXX seperatly ) are reporting to all XXXX bureau \\'s that these XXXX loans were discharged in bankruptcy Chap. XXXX. None of the payments made after this was reported are showing and since this time XXXX loans have been paid off. Also, not showing on my credit reports. I \\'ve contacted all XXXX credit bureaus numerous times and tried to dispute this. They show the loans were paid off on their end and in their system but wo n\\'t remove the \" discharged in bankrupcty \\'\\' of my credit reports. I went thru a divorce the bankruptcy and just want to get my life back together. With such a terrible credit score I \\'m paying more for everything and not able do a lot. I \\'d like to someday buy a home for my family again and will at some put need another car. It \\'s so frustrating. I ca n\\'t tell you the time and money ( I paid a credit company {$1600.00} to help me restore my credit ). I hope you will be able to advise me or help me. \\n\\nThank you for your time. \\n', 'JPMorgan Chase & Co.')\n",
      "(1468336, '07/14/2015', \"There are several late payments from Bayview Loan Serving being reported to all XXXX credit bureaus. Originally, I was cosigner on a mortgage note that I subsequently included in a now discharged Bankruptcy. The co-borrower and I were given instructions for her to retain property post Bankruptcy. The Co-borrower was instructed to complete an acquisition inquiry where they assess her ability to pay. She did successfully complete a loan modification, not including my income or information with Bay view, and without my completing any reaffirmation paperwork. On contrary, at the time I signed all required papers to relinquish any property claims. However, Bayview had failed to stop reporting to the credit bureaus for the note. However, when I call they say I am not on the note, but reported significant lates XX/XX/XXXX and XX/XX/XXXX. The mortgage has since been sold off to XXXX XXXX XXXX, In which case XXXX XXXX XXXX does not report to my credit. I gave been trying to get Bayview to remove this from my credit intermittently since XX/XX/XXXX. However, over the last 6-months I have been aggressive in trying to get this resolved and consistently hit a brick wall. First, I was directed to XXXX XXXX XXXX , XXXX XXXX XXXX direct me to Bayview, I filed disputes directly with credit Bureaus. The credit Bureaus stated it is for Bayview to correct. XX/XX/XXXX I finally was submitted to the escalation center at Bayview Florida office to assist with the issue. They claim they were originally not clear on what my claim was, and asked for supporting documentation. They acknowledged that they were able to see and view the bankruptcy on the computer in conjunction with the information I sent. XXXX I was told, that the rep would review and get back to me in 48-hours. However, I did n't get any answer. After a few days of no response and leaving unreturned voicemails. I recorded a voicemail, and disclosed as much to the representative. Who then returned my call furious and refused to speak with me verbally. She said I would receive something in the mail in 30-days. I was going to file a complaint then but was in the midst of trying to get a mortgage and had feared that it would cause further delay. SO, in thinking the information that was sent was sufficient I waited. The-30-days expired around XX/XX/XXXX with no update or response. I called back in, and they now claim they do not see who I was dealing with, and can not disclose any information cause I am not on the loan. I was then asked to send in all the documentation I previously sent. I did send the requested documentation, but I am also, seeking additional help as I am trying again to purchase another property. This represent a major issue as my credit is fragile with the Bankruptcy. Therefore, it has a negative impact to have such serious delinquencies on a mortgage. I have lost the XXXX property that I was trying to obtain, along with my deposit based on the time I strung sellers along trying to get this issued fixed. \\nI am submitting my Bankruptcy discharge along with list of creditors, I copy of the credit summary from bank that shows when Bayview reported delinquencies, a small potion of my phone bill that shows calls to XXXX, FL where I followed up with the Bayview. There others from landlines but those specifically are the ones where they committed to an update in 30-days. There is also, an email where I previously sought customer service guidance XX/XX/XXXX in was sent a survey after call. I can also, show if necessary, that I have not participated on any level on this mortgage since my bankruptcy. I know that the other borrower as had her mortgage reduced based on my income obligations being removed by the bankruptcy court. \\n\", 'Bayview Loan Servicing, LLC')\n",
      "(1697774, '12/15/2015', 'I filled bankruptcy, including my mortgage with Rushmore Loan Management in XXXX and it was discharged XXXX XXXX, XXXX Creditors are supposed to cease reporting negative items after the notice of bankruptcy being filed and creditors discharging items. I am protected through the bankruptcy against any further consequences for this loan. After several credit disputes, Rushmore continues to report derogatory information on my credit reports. They will not remove the comments \" settled for less than the amount owed \\'\\'. This comment along is not allowing me to get a mortgage to purchase a new home. ( FYIXXXX was the lender at the time of the Bankruptcy ) \\n', 'Rushmore Loan Management Services LLC')\n"
     ]
    }
   ],
   "source": [
    "for tpl in nearestNeighbors:\n",
    "    print(complaints[tpl[1]])"
   ]
  },
  {
   "cell_type": "code",
   "execution_count": 22,
   "metadata": {
    "collapsed": false
   },
   "outputs": [
    {
     "name": "stdout",
     "output_type": "stream",
     "text": [
      "504\n"
     ]
    }
   ],
   "source": [
    "companies = np.array([complaints[i][3] for i in range(len(complaints))])\n",
    "companies_unique = sorted(set(companies))\n",
    "print(len(companies_unique))"
   ]
  },
  {
   "cell_type": "markdown",
   "metadata": {},
   "source": [
    "Now we'll create an empty array the size of our vocabulary for each of the 504 companies. The, for each company, we'll fill up the empty array with the sum of the company's individual complaint vectors from the DTM we created earlier. "
   ]
  },
  {
   "cell_type": "code",
   "execution_count": 30,
   "metadata": {
    "collapsed": false
   },
   "outputs": [],
   "source": [
    "# Start with an empty array for each company\n",
    "dtm_companies = np.zeros((len(companies_unique), len(vocab)))\n",
    "# Now, for each company we'll store the sum of the frequency of each vocab\n",
    "# word in the dtm_companies array\n",
    "for i, company in enumerate(companies_unique):\n",
    "    dtm_companies[i, :] = np.sum(dtm[companies == company, :], axis=0) "
   ]
  },
  {
   "cell_type": "code",
   "execution_count": 34,
   "metadata": {
    "collapsed": false
   },
   "outputs": [
    {
     "name": "stdout",
     "output_type": "stream",
     "text": [
      "504\n"
     ]
    }
   ],
   "source": [
    "dist = 1 - cosine_similarity(dtm_companies)"
   ]
  },
  {
   "cell_type": "code",
   "execution_count": 42,
   "metadata": {
    "collapsed": false
   },
   "outputs": [],
   "source": [
    "from scipy.cluster.hierarchy import ward, dendrogram\n",
    "linkage_matrix = ward(dist)"
   ]
  },
  {
   "cell_type": "code",
   "execution_count": 46,
   "metadata": {
    "collapsed": false
   },
   "outputs": [],
   "source": [
    "import matplotlib.pyplot as plt\n",
    "plt.figure()\n",
    "dgram = dendrogram(linkage_matrix, orientation=\"right\")\n",
    "plt.show()"
   ]
  },
  {
   "cell_type": "code",
   "execution_count": null,
   "metadata": {
    "collapsed": true
   },
   "outputs": [],
   "source": []
  }
 ],
 "metadata": {
  "anaconda-cloud": {},
  "kernelspec": {
   "display_name": "Python [Root]",
   "language": "python",
   "name": "Python [Root]"
  },
  "language_info": {
   "codemirror_mode": {
    "name": "ipython",
    "version": 3
   },
   "file_extension": ".py",
   "mimetype": "text/x-python",
   "name": "python",
   "nbconvert_exporter": "python",
   "pygments_lexer": "ipython3",
   "version": "3.5.2"
  }
 },
 "nbformat": 4,
 "nbformat_minor": 0
}
